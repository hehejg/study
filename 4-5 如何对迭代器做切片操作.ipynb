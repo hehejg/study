{
 "cells": [
  {
   "cell_type": "markdown",
   "metadata": {},
   "source": [
    "### 对文件进行切片操作"
   ]
  },
  {
   "cell_type": "code",
   "execution_count": 25,
   "metadata": {},
   "outputs": [
    {
     "name": "stdout",
     "output_type": "stream",
     "text": [
      "7.11.0.2 : 09:56:17.090 :   ENTRY: CCmdLineParser::ParseOutVariable\n",
      "7.11.0.2 : 09:56:17.091 :   csCmdLine = (m\u0019\u0001D:\\360驱动大师目录\\下载保存目录\\audio_conexant_8.54.40.0_w8\\SA3\\Setup.exe\n",
      "7.11.0.2 : 09:56:17.091 :   csVarType = L1, nFormat = -4\n",
      "7.11.0.2 : 09:56:17.092 :   EXIT:  CCmdLineParser::ParseOutVariable : bRetVal = 0\n",
      "7.11.0.2 : 09:56:17.092 :   ENTRY: CCmdLineParser::ParseOutVariable\n",
      "7.11.0.2 : 09:56:17.093 :   csCmdLine = (m\u0019\u0001D:\\360驱动大师目录\\下载保存目录\\audio_conexant_8.54.40.0_w8\\SA3\\Setup.exe\n",
      "7.11.0.2 : 09:56:17.093 :   csVarType = L, nFormat = -4\n",
      "7.11.0.2 : 09:56:17.109 :   EXIT:  CCmdLineParser::ParseOutVariable : bRetVal = 0\n",
      "7.11.0.2 : 09:56:17.110 : D:\\360驱动大师目录\\下载保存目录\\audio_conexant_8.54.40.0_w8\\SA3\\Setup.exe -L2=detail -PNPID_FROM_UCI=hdaudio\\func_01&ven_14f1&dev_506e&subsys_10280561\n",
      "7.11.0.2 : 09:56:17.111 :   ENTRY: CSetupApp::RunSetupApp : UIU Application Build v7.11.0.2\n",
      "7.11.0.2 : 09:56:17.112 :   Version = V7.11.0.2\n",
      "7.11.0.2 : 09:56:17.113 :   OS Platform = OS_WIN8-64\n",
      "7.11.0.2 : 09:56:17.114 :   CSetupApp::GetSetupConfigInfo : csCmdLine = -L2=DETAIL -PNPID_FROM_UCI=HDAUDIO\\FUNC_01&VEN_14F1&DEV_506E&SUBSYS_10280561-VNET=V3.0+ -SM=SMARTAUDIO3.EXE,1801\n",
      "7.11.0.2 : 09:56:17.114 :   dwSetupConfig = 20100 : dwMode = 480000\n",
      "7.11.0.2 : 09:56:17.115 :     ENTRY: CSetupApp::CloseAnyRequestedAppWindows\n",
      "7.11.0.2 : 09:56:17.116 :       ENTRY: SendExitMsgToApp\n",
      "7.11.0.2 : 09:56:17.117 :       csAppName = SMARTAUDIO3.EXE, uExitMsg = 1801\n",
      "7.11.0.2 : 09:56:17.118 :         ENTRY: FindProcessID : csAppName = SMARTAUDIO3.EXE\n",
      "7.11.0.2 : 09:56:17.127 :         EXIT:  FindProcessID : bRetVal = 0\n",
      "7.11.0.2 : 09:56:17.128 :       EXIT:  SendExitMsgToApp\n",
      "7.11.0.2 : 09:56:17.129 :     EXIT:  CSetupApp::CloseAnyRequestedAppWindows\n",
      "7.11.0.2 : 09:56:17.129 :     ENTRY: CSetupISS::ParseSetupISSFile\n",
      "7.11.0.2 : 09:56:17.130 :     EXIT:  CSetupISS::ParseSetupISSFile\n",
      "7.11.0.2 : 09:56:17.131 :     ENTRY: CInstall :: Initialize\n",
      "7.11.0.2 : 09:56:17.132 :     m_csTempPath = C:\\WINDOWS\\TEMP\n",
      "7.11.0.2 : 09:56:17.132 :     EXIT:  CInstall :: Initialize\n",
      "7.11.0.2 : 09:56:17.133 :     ENTRY: CSetupDlg::RunSetupDlg\n",
      "7.11.0.2 : 09:56:17.133 :       ENTRY: CInstall :: SetupInstallEnviroment\n",
      "7.11.0.2 : 09:56:17.139 :         ENTRY: CINIFile::CINIFile\n",
      "7.11.0.2 : 09:56:17.140 :           ENTRY: CINIFile::ReInitialize\n",
      "7.11.0.2 : 09:56:17.141 :           EXIT:  CINIFile::ReInitialize : m_szINIPath = D:\\360驱动大师目录\\下载保存目录\\audio_conexant_8.54.40.0_w8\\SA3\\\n",
      "7.11.0.2 : 09:56:17.142 :         EXIT:  CINIFile::CINIFile : m_szINIPath = D:\\360驱动大师目录\\下载保存目录\\audio_conexant_8.54.40.0_w8\\SA3\\\n",
      "7.11.0.2 : 09:56:17.142 :         ENTRY: CINIFile::IsInstallCriteriaMet\n",
      "7.11.0.2 : 09:56:17.143 :         csDeviceID=  ; csInstallPath = \n",
      "7.11.0.2 : 09:56:17.144 :           ENTRY: KINIFile::Initialize : pszDeviceID = \n",
      "7.11.0.2 : 09:56:17.144 :             ENTRY: CDevNode::FindDevNode : pszPNPID = \n",
      "7.11.0.2 : 09:56:17.148 :             EXIT:  CDevNode::FindDevNode : bRetVal = 1\n",
      "7.11.0.2 : 09:56:17.148 :             ENTRY: CDevNode::FindDevNode : pszPNPID = \n",
      "7.11.0.2 : 09:56:17.152 :             EXIT:  CDevNode::FindDevNode : bRetVal = 1\n",
      "7.11.0.2 : 09:56:17.153 :           m_szDriverPath = {4d36e97d-e325-11ce-bfc1-08002be10318}\\0010, m_ClassType = 2\n",
      "7.11.0.2 : 09:56:17.153 :           m_pSetupParms->csParentFilePath=,\n",
      "7.11.0.2 : 09:56:17.154 :           MyPaths = D:\\360驱动大师目录\\下载保存目录\\audio_conexant_8.54.40.0_w8\\SA3\\\n",
      "7.11.0.2 : 09:56:17.155 :           EXIT:  KINIFile::Initialize\n",
      "7.11.0.2 : 09:56:17.155 :           ENTRY: KINIFile::IsAbortDeviceInstallIfFailureCase : csInstallPath= \n",
      "7.11.0.2 : 09:56:17.156 :             ENTRY: KINIFile::GetInstallAppSectionListInfo : csInstallPath= \n",
      "7.11.0.2 : 09:56:17.157 :               ENTRY: KINIFile::LocateINIFileNames\n",
      "7.11.0.2 : 09:56:17.157 :               pszInstallPath = \\\n",
      "7.11.0.2 : 09:56:17.158 :               EXIT:  KINIFile::LocateINIFileNames : pkslINIFileNames->GetCount() = 0\n",
      "7.11.0.2 : 09:56:17.158 :             EXIT:  KINIFile::GetInstallAppSectionListInfo : bRetVal = 0\n",
      "7.11.0.2 : 09:56:17.159 :           EXIT:  KINIFile::IsAbortDeviceInstallIfFailureCase : dwRetVal = 0\n",
      "7.11.0.2 : 09:56:17.160 :         EXIT:  CINIFile::IsInstallCriteriaMet : dwRetVal = 0\n",
      "7.11.0.2 : 09:56:17.162 :       EXIT:  CInstall :: SetupInstallEnviroment : m_kDeviceDataList.GetCount() = 1\n",
      "7.11.0.2 : 09:56:17.163 :       ENTRY: CInstall::SpawnToUIU64IfNeeded\n",
      "7.11.0.2 : 09:56:17.163 :       csSetupExe = D:\\360驱动大师目录\\下载保存目录\\audio_conexant_8.54.40.0_w8\\SA3\\x64\\Setup64.exe\n",
      "7.11.0.2 : 09:56:17.165 :       szTempPath = C:\\WINDOWS\\TEMP\\59b49bc10\n",
      "7.11.0.2 : 09:56:17.519 :       csNewSetupExe = C:\\WINDOWS\\TEMP\\59b49bc10\\Setup64.exe\n",
      "7.11.0.2 : 09:56:17.520 :         ENTRY: CFileUtils::CopyAFile\n",
      "7.11.0.2 : 09:56:17.520 :         pszSourceFile=D:\\360驱动大师目录\\下载保存目录\\audio_conexant_8.54.40.0_w8\\SA3\\x64\\Setup64.exe, pszDestinationFile=C:\\WINDOWS\\TEMP\\59b49bc10\\Setup64.exe, dwDestFlag=0\n",
      "7.11.0.2 : 09:56:17.529 :         EXIT:  CFileUtils::CopyAFile : dwRetVal = 1\n",
      "7.11.0.2 : 09:56:17.529 :       csCmdline = -S -L2=DETAIL -PNPID_FROM_UCI=HDAUDIO\\FUNC_01&VEN_14F1&DEV_506E&SUBSYS_10280561-VNET=V3.0+ -SM=SMARTAUDIO3.EXE,1801 -INI=SA3.INI, SA3\n",
      "7.11.0.2 : 09:56:17.530 :         ENTRY: CSetupApp::SpawnAnotherUIU\n",
      "7.11.0.2 : 09:56:17.530 :         pszExeName=C:\\WINDOWS\\TEMP\\59b49bc10\\Setup64.exe, pszCmdArg=-S -L2=DETAIL -PNPID_FROM_UCI=HDAUDIO\\FUNC_01&VEN_14F1&DEV_506E&SUBSYS_10280561-VNET=V3.0+ -SM=SMARTAUDIO3.EXE,1801 -INI=SA3.INI, SA3, bWaitForProcess=1\n",
      "7.11.0.2 : 09:56:17.531 :         csWorkingDir = C:\\WINDOWS\\TEMP\\59b49bc10\\\n",
      "7.11.0.2 : 09:56:17.531 :         Trying to Spawn with ShellExecuteEx\n",
      "7.11.0.2 : 09:56:17.532 :         szExeName = \"C:\\WINDOWS\\TEMP\\59b49bc10\\Setup64.exe\"\n",
      "7.11.0.2 : 09:56:17.533 :         szCmdLine = -S -L2=DETAIL -PNPID_FROM_UCI=HDAUDIO\\FUNC_01&VEN_14F1&DEV_506E&SUBSYS_10280561-VNET=V3.0+ -SM=SMARTAUDIO3.EXE,1801 -INI=SA3.INI, SA3\n",
      "7.11.0.2 : 09:56:57.400 :         dwRetVal & ~RETVAL_SPAWNAPP_SUCCESS = 0\n",
      "7.11.0.2 : 09:56:57.401 :         EXIT:  CSetupApp::SpawnAnotherUIU : dwRetVal = 8\n",
      "7.11.0.2 : 09:56:57.401 :         ENTRY: CInstall::ReadRegHWRetVal\n",
      "7.11.0.2 : 09:56:57.402 :         EXIT:  CInstall::ReadRegHWRetVal\n",
      "7.11.0.2 : 09:56:57.403 :       *pdwStatus = 1\n",
      "7.11.0.2 : 09:56:57.404 :       EXIT:  CInstall::SpawnToUIU64IfNeeded : bRetVal=1\n",
      "7.11.0.2 : 09:56:57.404 :       ENTRY: CInstall::DoGuiuDeferInstallApp\n",
      "7.11.0.2 : 09:56:57.405 :         ENTRY: CINIFile::ReInitialize\n",
      "7.11.0.2 : 09:56:57.406 :         EXIT:  CINIFile::ReInitialize : m_szINIPath = D:\\360驱动大师目录\\下载保存目录\\audio_conexant_8.54.40.0_w8\\SA3\\\n",
      "7.11.0.2 : 09:56:57.407 :       EXIT:  CInstall::DoGuiuDeferInstallApp\n",
      "7.11.0.2 : 09:56:57.407 :     EXIT:  CSetupDlg::RunSetupDlg\n",
      "7.11.0.2 : 09:56:57.408 :   EXIT:  CSetupApp::RunSetupApp : m_SetupParms.nRetVal = 0\n",
      "7.11.0.2 : 09:56:57.409 :   ENTRY: CSetupApp::DoBlockedFilesWorkAround\n",
      "7.11.0.2 : 09:56:57.409 :   EXIT:  CSetupApp::DoBlockedFilesWorkAround\n",
      "7.11.0.2 : 09:56:57.410 :   ENTRY: CSetupApp::SetupForReboot\n",
      "7.11.0.2 : 09:56:57.410 :   EXIT:  CSetupApp::SetupForReboot\n",
      "7.11.0.2 : 09:56:57.411 :   ENTRY: CSetupApp::SetupRetVal\n",
      "7.11.0.2 : 09:56:57.411 :     ENTRY: CSetupApp::SetupRetVal : m_SetupParms.nRetVal = 0\n",
      "7.11.0.2 : 09:56:57.412 :     EXIT:  CSetupApp::InitInstance() : m_SetupParms.nRetVal = 0\n",
      "7.11.0.2 : 09:56:57.412 :     ENTRY: CSetupApp::ExitInstance()\n",
      "7.11.0.2 : 09:56:57.413 :     EXIT:  CSetupApp::ExitInstance()\n",
      "\n"
     ]
    }
   ],
   "source": [
    "with open(r'C:\\ProgramData\\Conexant\\InstallerLogs\\SA3\\CONEXANT_INSTALL.LOG',encoding='gb18030',errors='ignore') as f:\n",
    "    print(f.read())"
   ]
  },
  {
   "cell_type": "code",
   "execution_count": 14,
   "metadata": {
    "collapsed": true
   },
   "outputs": [],
   "source": [
    "l=list(range(10))"
   ]
  },
  {
   "cell_type": "code",
   "execution_count": 15,
   "metadata": {},
   "outputs": [
    {
     "data": {
      "text/plain": [
       "[0, 1, 2, 3, 4, 5, 6, 7, 8, 9]"
      ]
     },
     "execution_count": 15,
     "metadata": {},
     "output_type": "execute_result"
    }
   ],
   "source": [
    "l"
   ]
  },
  {
   "cell_type": "code",
   "execution_count": 18,
   "metadata": {},
   "outputs": [
    {
     "data": {
      "text/plain": [
       "[2, 3]"
      ]
     },
     "execution_count": 18,
     "metadata": {},
     "output_type": "execute_result"
    }
   ],
   "source": [
    "l[2:4]"
   ]
  },
  {
   "cell_type": "code",
   "execution_count": 21,
   "metadata": {},
   "outputs": [
    {
     "data": {
      "text/plain": [
       "[2, 3]"
      ]
     },
     "execution_count": 21,
     "metadata": {},
     "output_type": "execute_result"
    }
   ],
   "source": [
    "l.__getitem__(slice(2,4))"
   ]
  },
  {
   "cell_type": "markdown",
   "metadata": {},
   "source": [
    "### 切片操作重写了getitem方法 创建了一个slice对象"
   ]
  },
  {
   "cell_type": "markdown",
   "metadata": {},
   "source": [
    "##### 使用itertools.islice,它能返回一个迭代对象切片生成器"
   ]
  },
  {
   "cell_type": "code",
   "execution_count": 29,
   "metadata": {
    "collapsed": true
   },
   "outputs": [],
   "source": [
    "from itertools import islice"
   ]
  },
  {
   "cell_type": "markdown",
   "metadata": {},
   "source": [
    "  #### 用以下方法就可以实现对文件的切片操作"
   ]
  },
  {
   "cell_type": "code",
   "execution_count": 37,
   "metadata": {},
   "outputs": [
    {
     "name": "stdout",
     "output_type": "stream",
     "text": [
      "7.11.0.2 : 09:56:17.090 :   ENTRY: CCmdLineParser::ParseOutVariable\n",
      "\n",
      "7.11.0.2 : 09:56:17.091 :   csCmdLine = (m\u0019\u0001D:\\360驱动大师目录\\下载保存目录\\audio_conexant_8.54.40.0_w8\\SA3\\Setup.exe\n",
      "\n",
      "7.11.0.2 : 09:56:17.091 :   csVarType = L1, nFormat = -4\n",
      "\n",
      "7.11.0.2 : 09:56:17.092 :   EXIT:  CCmdLineParser::ParseOutVariable : bRetVal = 0\n",
      "\n",
      "7.11.0.2 : 09:56:17.092 :   ENTRY: CCmdLineParser::ParseOutVariable\n",
      "\n",
      "7.11.0.2 : 09:56:17.093 :   csCmdLine = (m\u0019\u0001D:\\360驱动大师目录\\下载保存目录\\audio_conexant_8.54.40.0_w8\\SA3\\Setup.exe\n",
      "\n",
      "7.11.0.2 : 09:56:17.093 :   csVarType = L, nFormat = -4\n",
      "\n",
      "7.11.0.2 : 09:56:17.109 :   EXIT:  CCmdLineParser::ParseOutVariable : bRetVal = 0\n",
      "\n",
      "7.11.0.2 : 09:56:17.110 : D:\\360驱动大师目录\\下载保存目录\\audio_conexant_8.54.40.0_w8\\SA3\\Setup.exe -L2=detail -PNPID_FROM_UCI=hdaudio\\func_01&ven_14f1&dev_506e&subsys_10280561\n",
      "\n",
      "7.11.0.2 : 09:56:17.111 :   ENTRY: CSetupApp::RunSetupApp : UIU Application Build v7.11.0.2\n",
      "\n"
     ]
    }
   ],
   "source": [
    "with open(r'C:\\ProgramData\\Conexant\\InstallerLogs\\SA3\\CONEXANT_INSTALL.LOG',encoding='gb18030',errors='ignore') as f:\n",
    "\n",
    "    for line in islice(f,0,10):\n",
    "        print(line)"
   ]
  },
  {
   "cell_type": "code",
   "execution_count": null,
   "metadata": {
    "collapsed": true
   },
   "outputs": [],
   "source": []
  }
 ],
 "metadata": {
  "kernelspec": {
   "display_name": "Python 3",
   "language": "python",
   "name": "python3"
  },
  "language_info": {
   "codemirror_mode": {
    "name": "ipython",
    "version": 3
   },
   "file_extension": ".py",
   "mimetype": "text/x-python",
   "name": "python",
   "nbconvert_exporter": "python",
   "pygments_lexer": "ipython3",
   "version": "3.6.8"
  }
 },
 "nbformat": 4,
 "nbformat_minor": 2
}
