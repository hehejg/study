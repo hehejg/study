{
 "cells": [
  {
   "cell_type": "code",
   "execution_count": 3,
   "metadata": {},
   "outputs": [],
   "source": [
    "import os"
   ]
  },
  {
   "cell_type": "code",
   "execution_count": 26,
   "metadata": {},
   "outputs": [],
   "source": [
    "s=os.listdir('.')\n",
    "c=[]"
   ]
  },
  {
   "cell_type": "code",
   "execution_count": 31,
   "metadata": {},
   "outputs": [
    {
     "name": "stdout",
     "output_type": "stream",
     "text": [
      "100000 loops, best of 3: 9.14 µs per loop\n"
     ]
    }
   ],
   "source": [
    "%timeit [c.append(i) for i in s if i.endswith('lnk')]\n"
   ]
  },
  {
   "cell_type": "code",
   "execution_count": 30,
   "metadata": {},
   "outputs": [
    {
     "data": {
      "text/plain": [
       "['Appium.lnk',\n",
       " 'HOSTS.lnk',\n",
       " 'IntelliJ IDEA 2019.1.3.lnk',\n",
       " 'IObitUninstallerPROPortable.exe.lnk',\n",
       " 'natapp.exe.lnk',\n",
       " 'PanDownload.exe.lnk',\n",
       " 'Postman.lnk',\n",
       " 'RedisDesktopManager.lnk',\n",
       " 'Thunder.exe.lnk',\n",
       " 'Uninstall Tool.lnk',\n",
       " '大白菜装机版.lnk',\n",
       " '搜索 Everything.lnk',\n",
       " '桌面文件.lnk',\n",
       " '百度网盘.lnk',\n",
       " 'Appium.lnk',\n",
       " 'HOSTS.lnk',\n",
       " 'IntelliJ IDEA 2019.1.3.lnk',\n",
       " 'IObitUninstallerPROPortable.exe.lnk',\n",
       " 'natapp.exe.lnk',\n",
       " 'PanDownload.exe.lnk',\n",
       " 'Postman.lnk',\n",
       " 'RedisDesktopManager.lnk',\n",
       " 'Thunder.exe.lnk',\n",
       " 'Uninstall Tool.lnk',\n",
       " '大白菜装机版.lnk',\n",
       " '搜索 Everything.lnk',\n",
       " '桌面文件.lnk',\n",
       " '百度网盘.lnk']"
      ]
     },
     "execution_count": 30,
     "metadata": {},
     "output_type": "execute_result"
    }
   ],
   "source": [
    "c"
   ]
  },
  {
   "cell_type": "code",
   "execution_count": null,
   "metadata": {
    "collapsed": true
   },
   "outputs": [],
   "source": []
  }
 ],
 "metadata": {
  "kernelspec": {
   "display_name": "Python 3",
   "language": "python",
   "name": "python3"
  },
  "language_info": {
   "codemirror_mode": {
    "name": "ipython",
    "version": 3
   },
   "file_extension": ".py",
   "mimetype": "text/x-python",
   "name": "python",
   "nbconvert_exporter": "python",
   "pygments_lexer": "ipython3",
   "version": "3.6.8"
  }
 },
 "nbformat": 4,
 "nbformat_minor": 2
}
